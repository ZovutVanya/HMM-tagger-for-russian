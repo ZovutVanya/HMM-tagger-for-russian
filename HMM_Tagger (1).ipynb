{
  "cells": [
    {
      "cell_type": "markdown",
      "metadata": {
        "id": "qJQRA_qeRctC"
      },
      "source": [
        "# Project: Part of Speech Tagging with Hidden Markov Models \n",
        "---\n",
        "### Introduction\n",
        "\n",
        "Part of speech tagging is the process of determining the syntactic category of a word from the words in its surrounding context. It is often used to help disambiguate natural language phrases because it can be done quickly with high accuracy. Tagging can be used for many NLP tasks like determining correct pronunciation during speech synthesis (for example, _dis_-count as a noun vs dis-_count_ as a verb), for information retrieval, and for word sense disambiguation.\n",
        "\n",
        "In this notebook, you'll use the [Pomegranate](http://pomegranate.readthedocs.io/) library to build a hidden Markov model for part of speech tagging using a \"universal\" tagset. Hidden Markov models have been able to achieve [>96% tag accuracy with larger tagsets on realistic text corpora](http://www.coli.uni-saarland.de/~thorsten/publications/Brants-ANLP00.pdf). Hidden Markov models have also been used for speech recognition and speech generation, machine translation, gene recognition for bioinformatics, and human gesture recognition for computer vision, and more. \n",
        "\n",
        "![](_post-hmm.png)\n"
      ]
    },
    {
      "cell_type": "markdown",
      "metadata": {
        "id": "RYmZNlksRctM"
      },
      "source": [
        "### The Road Ahead\n",
        "You must complete Steps 1-3 below to pass the project. The section on Step 4 includes references & resources you can use to further explore HMM taggers.\n",
        "\n",
        "- [Step 1](#Step-1:-Read-and-preprocess-the-dataset): Review the provided interface to load and access the text corpus\n",
        "- [Step 2](#Step-2:-Build-a-Most-Frequent-Class-tagger): Build a Most Frequent Class tagger to use as a baseline\n",
        "- [Step 3](#Step-3:-Build-an-HMM-tagger): Build an HMM Part of Speech tagger and compare to the MFC baseline\n",
        "- [Step 4](#Step-4:-[Optional]-Improving-model-performance): (Optional) Improve the HMM tagger"
      ]
    },
    {
      "cell_type": "markdown",
      "metadata": {
        "id": "DPUwh3oSRctM"
      },
      "source": [
        "<div class=\"alert alert-block alert-warning\">\n",
        "**Note:** Make sure you have selected a **Python 3** kernel in Workspaces or the hmm-tagger conda environment if you are running the Jupyter server on your own machine.\n",
        "</div>"
      ]
    },
    {
      "cell_type": "code",
      "execution_count": 1,
      "metadata": {
        "id": "ubvDHIiIRctN"
      },
      "outputs": [],
      "source": [
        "# Jupyter \"magic methods\" -- only need to be run once per kernel restart\n",
        "%load_ext autoreload\n",
        "%aimport helpers, tests\n",
        "%autoreload 1"
      ]
    },
    {
      "cell_type": "code",
      "execution_count": 2,
      "metadata": {
        "colab": {
          "base_uri": "https://localhost:8080/"
        },
        "id": "1X13hkLA0Y7g",
        "outputId": "d5179a30-a398-4b5d-ec03-1eff592692a1"
      },
      "outputs": [
        {
          "name": "stdout",
          "output_type": "stream",
          "text": [
            "Looking in indexes: https://pypi.org/simple, https://us-python.pkg.dev/colab-wheels/public/simple/\n",
            "Collecting pomegranate\n",
            "  Using cached pomegranate-0.14.8.tar.gz (4.3 MB)\n",
            "  Installing build dependencies ... \u001b[?25l\u001b[?25hdone\n",
            "  Getting requirements to build wheel ... \u001b[?25l\u001b[?25hdone\n",
            "    Preparing wheel metadata ... \u001b[?25l\u001b[?25hdone\n",
            "Requirement already satisfied: pyyaml in /usr/local/lib/python3.8/dist-packages (from pomegranate) (6.0)\n",
            "Requirement already satisfied: joblib>=0.9.0b4 in /usr/local/lib/python3.8/dist-packages (from pomegranate) (1.2.0)\n",
            "Requirement already satisfied: numpy>=1.20.0 in /usr/local/lib/python3.8/dist-packages (from pomegranate) (1.21.6)\n",
            "Requirement already satisfied: networkx>=2.4 in /usr/local/lib/python3.8/dist-packages (from pomegranate) (2.6.3)\n",
            "Requirement already satisfied: scipy>=0.17.0 in /usr/local/lib/python3.8/dist-packages (from pomegranate) (1.7.3)\n",
            "Building wheels for collected packages: pomegranate\n",
            "  Building wheel for pomegranate (PEP 517) ... \u001b[?25l\u001b[?25hdone\n",
            "  Created wheel for pomegranate: filename=pomegranate-0.14.8-cp38-cp38-linux_x86_64.whl size=17052478 sha256=f5686c0e193c5be68407f1d36e16d1b58ba56655c3909ac8dce2521f67839514\n",
            "  Stored in directory: /root/.cache/pip/wheels/e5/39/08/5dac86e6d7ef4c6b9f337b0913f1bf96a8b32ff45f833b067f\n",
            "Successfully built pomegranate\n",
            "Installing collected packages: pomegranate\n",
            "Successfully installed pomegranate-0.14.8\n"
          ]
        }
      ],
      "source": [
        "!pip install pomegranate"
      ]
    },
    {
      "cell_type": "code",
      "execution_count": 3,
      "metadata": {
        "id": "1H8QP389RctQ"
      },
      "outputs": [],
      "source": [
        "# import python modules -- this cell needs to be run again if you make changes to any of the files\n",
        "from collections import Counter, defaultdict\n",
        "from itertools import chain\n",
        "\n",
        "import matplotlib.pyplot as plt\n",
        "import numpy as np\n",
        "from helpers import Dataset, show_model\n",
        "from IPython.core.display import HTML\n",
        "from pomegranate import DiscreteDistribution, HiddenMarkovModel, State"
      ]
    },
    {
      "cell_type": "markdown",
      "metadata": {
        "id": "lhZhEuCIRctS"
      },
      "source": [
        "## Step 1: Read and preprocess the dataset\n",
        "---\n",
        "We'll start by reading in a text corpus and splitting it into a training and testing dataset. The data set is a copy of the [Brown corpus](https://en.wikipedia.org/wiki/Brown_Corpus) (originally from the [NLTK](https://www.nltk.org/) library) that has already been pre-processed to only include the [universal tagset](https://arxiv.org/pdf/1104.2086.pdf). You should expect to get slightly higher accuracy using this simplified tagset than the same model would achieve on a larger tagset like the full [Penn treebank tagset](https://www.ling.upenn.edu/courses/Fall_2003/ling001/penn_treebank_pos.html), but the process you'll follow would be the same.\n",
        "\n",
        "The `Dataset` class provided in helpers.py will read and parse the corpus. You can generate your own datasets compatible with the reader by writing them to the following format. The dataset is stored in plaintext as a collection of words and corresponding tags. Each sentence starts with a unique identifier on the first line, followed by one tab-separated word/tag pair on each following line. Sentences are separated by a single blank line.\n",
        "\n",
        "Example from the Brown corpus. \n",
        "```\n",
        "b100-38532\n",
        "Perhaps\tADV\n",
        "it\tPRON\n",
        "was\tVERB\n",
        "right\tADJ\n",
        ";\t.\n",
        ";\t.\n",
        "\n",
        "b100-35577\n",
        "...\n",
        "```"
      ]
    },
    {
      "cell_type": "code",
      "execution_count": 4,
      "metadata": {
        "id": "Xs9bhFCe2std"
      },
      "outputs": [],
      "source": [
        "import io\n",
        "\n",
        "g = open('gikrya_two_col.txt', 'w', encoding='utf-8')\n",
        "\n",
        "with io.open('gikrya_fixed.txt', encoding='utf-8') as file:\n",
        "    for line in file:\n",
        "            g.write(\"\\t\".join(line.split()[1:4:2]) + \"\\n\")\n",
        "            \n",
        "g.close()"
      ]
    },
    {
      "cell_type": "code",
      "execution_count": 5,
      "metadata": {
        "id": "sP20sWDUbyjR"
      },
      "outputs": [],
      "source": [
        "import uuid"
      ]
    },
    {
      "cell_type": "code",
      "execution_count": 6,
      "metadata": {
        "id": "SjS0HWwXb3Hb"
      },
      "outputs": [],
      "source": [
        "gg = open('gikrya_2_col.txt', 'w', encoding='utf-8')\n",
        "gg.write('g-' + str(uuid.uuid4().int) + '\\n')\n",
        "with io.open('gikrya_two_col.txt', 'r', encoding='utf-8') as f:\n",
        "    lines = f.readlines()\n",
        "    for line in lines:\n",
        "        if line.strip() == \"\":\n",
        "            gg.write(line)\n",
        "            gg.write('g-' + str(uuid.uuid4().int) + '\\n')\n",
        "        else: gg.write(line)\n",
        "\n",
        "gg.close()"
      ]
    },
    {
      "cell_type": "code",
      "execution_count": 7,
      "metadata": {
        "id": "ND7ykU7lPEar"
      },
      "outputs": [],
      "source": [
        "gg = open('gikrya_2_col.txt', 'r', encoding='utf-8')\n",
        "lines = gg.readlines()\n",
        "gg.close()\n",
        "\n",
        "del lines[-1]\n",
        "\n",
        "gg = open('gikrya_2_col.txt', 'w', encoding='utf-8')\n",
        "gg.writelines(lines)\n",
        "gg.close()"
      ]
    },
    {
      "cell_type": "code",
      "execution_count": 8,
      "metadata": {
        "colab": {
          "base_uri": "https://localhost:8080/"
        },
        "id": "NG2n2HRBRctW",
        "outputId": "4b4f307e-a009-4cfa-8662-592ff917e0e5"
      },
      "outputs": [
        {
          "name": "stdout",
          "output_type": "stream",
          "text": [
            "There are 83148 sentences in the corpus.\n",
            "There are 66518 sentences in the training set.\n",
            "There are 16630 sentences in the testing set.\n"
          ]
        }
      ],
      "source": [
        "data = Dataset(\"tags-universal.txt\", \"gikrya_2_col.txt\", train_test_split=0.8)\n",
        "\n",
        "print(\"There are {} sentences in the corpus.\".format(len(data)))\n",
        "print(\"There are {} sentences in the training set.\".format(len(data.training_set)))\n",
        "print(\"There are {} sentences in the testing set.\".format(len(data.testing_set)))\n",
        "\n",
        "assert len(data) == len(data.training_set) + len(data.testing_set), \\\n",
        "       \"The number of sentences in the training set + testing set should sum to the number of sentences in the corpus\""
      ]
    },
    {
      "cell_type": "markdown",
      "metadata": {
        "id": "bhfl--KRRctW"
      },
      "source": [
        "### The Dataset Interface\n",
        "\n",
        "You can access (mostly) immutable references to the dataset through a simple interface provided through the `Dataset` class, which represents an iterable collection of sentences along with easy access to partitions of the data for training & testing. Review the reference below, then run and review the next few cells to make sure you understand the interface before moving on to the next step.\n",
        "\n",
        "```\n",
        "Dataset-only Attributes:\n",
        "    training_set - reference to a Subset object containing the samples for training\n",
        "    testing_set - reference to a Subset object containing the samples for testing\n",
        "\n",
        "Dataset & Subset Attributes:\n",
        "    sentences - a dictionary with an entry {sentence_key: Sentence()} for each sentence in the corpus\n",
        "    keys - an immutable ordered (not sorted) collection of the sentence_keys for the corpus\n",
        "    vocab - an immutable collection of the unique words in the corpus\n",
        "    tagset - an immutable collection of the unique tags in the corpus\n",
        "    X - returns an array of words grouped by sentences ((w11, w12, w13, ...), (w21, w22, w23, ...), ...)\n",
        "    Y - returns an array of tags grouped by sentences ((t11, t12, t13, ...), (t21, t22, t23, ...), ...)\n",
        "    N - returns the number of distinct samples (individual words or tags) in the dataset\n",
        "\n",
        "Methods:\n",
        "    stream() - returns an flat iterable over all (word, tag) pairs across all sentences in the corpus\n",
        "    __iter__() - returns an iterable over the data as (sentence_key, Sentence()) pairs\n",
        "    __len__() - returns the nubmer of sentences in the dataset\n",
        "```\n",
        "\n",
        "For example, consider a Subset, `subset`, of the sentences `{\"s0\": Sentence((\"See\", \"Spot\", \"run\"), (\"VERB\", \"NOUN\", \"VERB\")), \"s1\": Sentence((\"Spot\", \"ran\"), (\"NOUN\", \"VERB\"))}`. The subset will have these attributes:\n",
        "\n",
        "```\n",
        "subset.keys == {\"s1\", \"s0\"}  # unordered\n",
        "subset.vocab == {\"See\", \"run\", \"ran\", \"Spot\"}  # unordered\n",
        "subset.tagset == {\"VERB\", \"NOUN\"}  # unordered\n",
        "subset.X == ((\"Spot\", \"ran\"), (\"See\", \"Spot\", \"run\"))  # order matches .keys\n",
        "subset.Y == ((\"NOUN\", \"VERB\"), (\"VERB\", \"NOUN\", \"VERB\"))  # order matches .keys\n",
        "subset.N == 7  # there are a total of seven observations over all sentences\n",
        "len(subset) == 2  # because there are two sentences\n",
        "```\n",
        "\n",
        "<div class=\"alert alert-block alert-info\">\n",
        "**Note:** The `Dataset` class is _convenient_, but it is **not** efficient. It is not suitable for huge datasets because it stores multiple redundant copies of the same data.\n",
        "</div>"
      ]
    },
    {
      "cell_type": "markdown",
      "metadata": {
        "id": "xv3-YQn4RctX"
      },
      "source": [
        "#### Sentences\n",
        "\n",
        "`Dataset.sentences` is a dictionary of all sentences in the training corpus, each keyed to a unique sentence identifier. Each `Sentence` is itself an object with two attributes: a tuple of the words in the sentence named `words` and a tuple of the tag corresponding to each word named `tags`."
      ]
    },
    {
      "cell_type": "code",
      "execution_count": 9,
      "metadata": {
        "colab": {
          "base_uri": "https://localhost:8080/"
        },
        "id": "S3fOvnlERctX",
        "outputId": "3d5ca2a5-d680-41a2-bc02-6457589d8f67"
      },
      "outputs": [
        {
          "name": "stdout",
          "output_type": "stream",
          "text": [
            "Sentence: g-293800559838447270161290302804876482158\n",
            "words:\n",
            "\t('Ты', 'заметил', ',', 'что', 'я', 'стараюсь', 'влиять', 'на', 'принца', 'через', 'его', 'телохранителя', ',', 'верно', '.')\n",
            "tags:\n",
            "\t('PRON', 'VERB', 'PUNCT', 'CONJ', 'PRON', 'VERB', 'VERB', 'ADP', 'NOUN', 'ADP', 'DET', 'NOUN', 'PUNCT', 'ADV', 'PUNCT')\n"
          ]
        }
      ],
      "source": [
        "key = data.keys[1111]\n",
        "print(\"Sentence: {}\".format(key))\n",
        "print(\"words:\\n\\t{!s}\".format(data.sentences[key].words))\n",
        "print(\"tags:\\n\\t{!s}\".format(data.sentences[key].tags))"
      ]
    },
    {
      "cell_type": "code",
      "execution_count": 10,
      "metadata": {
        "colab": {
          "base_uri": "https://localhost:8080/"
        },
        "id": "K9jURBGIRctX",
        "outputId": "50377e7b-2e42-41e5-f0dd-6397f9b4bb3f"
      },
      "outputs": [
        {
          "data": {
            "text/plain": [
              "('g-279428685097166560543473561340329010956',\n",
              " 'g-266188528737699291760082347965017247313')"
            ]
          },
          "execution_count": 10,
          "metadata": {},
          "output_type": "execute_result"
        }
      ],
      "source": [
        "data.keys[:2]\n"
      ]
    },
    {
      "cell_type": "markdown",
      "metadata": {
        "id": "6XKvGq3TRctY"
      },
      "source": [
        "<div class=\"alert alert-block alert-info\">\n",
        "**Note:** The underlying iterable sequence is **unordered** over the sentences in the corpus; it is not guaranteed to return the sentences in a consistent order between calls. Use `Dataset.stream()`, `Dataset.keys`, `Dataset.X`, or `Dataset.Y` attributes if you need ordered access to the data.\n",
        "</div>\n",
        "\n",
        "#### Counting Unique Elements\n",
        "\n",
        "You can access the list of unique words (the dataset vocabulary) via `Dataset.vocab` and the unique list of tags via `Dataset.tagset`."
      ]
    },
    {
      "cell_type": "code",
      "execution_count": 11,
      "metadata": {
        "colab": {
          "base_uri": "https://localhost:8080/"
        },
        "id": "GvVCvsInRctY",
        "outputId": "69fc38f2-413d-422a-aaa0-a1d31843adc4"
      },
      "outputs": [
        {
          "name": "stdout",
          "output_type": "stream",
          "text": [
            "There are a total of 1086148 samples of 126585 unique words in the corpus.\n",
            "There are 867674 samples of 111674 unique words in the training set.\n",
            "There are 218474 samples of 46935 unique words in the testing set.\n",
            "There are 14911 words in the test set that are missing in the training set.\n"
          ]
        }
      ],
      "source": [
        "print(\"There are a total of {} samples of {} unique words in the corpus.\"\n",
        "      .format(data.N, len(data.vocab)))\n",
        "print(\"There are {} samples of {} unique words in the training set.\"\n",
        "      .format(data.training_set.N, len(data.training_set.vocab)))\n",
        "print(\"There are {} samples of {} unique words in the testing set.\"\n",
        "      .format(data.testing_set.N, len(data.testing_set.vocab)))\n",
        "print(\"There are {} words in the test set that are missing in the training set.\"\n",
        "      .format(len(data.testing_set.vocab - data.training_set.vocab)))\n",
        "\n",
        "assert data.N == data.training_set.N + data.testing_set.N, \\\n",
        "       \"The number of training + test samples should sum to the total number of samples\""
      ]
    },
    {
      "cell_type": "markdown",
      "metadata": {
        "id": "ltPOtYXFRctZ"
      },
      "source": [
        "#### Accessing word and tag Sequences\n",
        "The `Dataset.X` and `Dataset.Y` attributes provide access to ordered collections of matching word and tag sequences for each sentence in the dataset."
      ]
    },
    {
      "cell_type": "code",
      "execution_count": 12,
      "metadata": {
        "colab": {
          "base_uri": "https://localhost:8080/"
        },
        "id": "jmTaKx6SRctZ",
        "outputId": "53635daa-558e-4c71-ff49-2b87291c167c"
      },
      "outputs": [
        {
          "name": "stdout",
          "output_type": "stream",
          "text": [
            "Sentence 1: ('Жуткий', 'холод', ',', 'пробирающий', 'до', 'костей', ',', 'пронзил', 'тело', 'разведчика', '.')\n",
            "\n",
            "Labels 1: ('ADJ', 'NOUN', 'PUNCT', 'ADJ', 'ADP', 'NOUN', 'PUNCT', 'VERB', 'NOUN', 'NOUN', 'PUNCT')\n",
            "\n",
            "Sentence 2: ('Что', 'получается', 'если', 'кофе', 'сорта', 'арабика', 'то', 'его', 'можно', 'в', 'первой', 'фазе', '?')\n",
            "\n",
            "Labels 2: ('PRON', 'VERB', 'CONJ', 'NOUN', 'NOUN', 'NOUN', 'DET', 'PRON', 'ADJ', 'ADP', 'ADJ', 'NOUN', 'PUNCT')\n",
            "\n"
          ]
        }
      ],
      "source": [
        "# accessing words with Dataset.X and tags with Dataset.Y \n",
        "for i in range(2):    \n",
        "    print(\"Sentence {}:\".format(i + 1), data.X[i])\n",
        "    print()\n",
        "    print(\"Labels {}:\".format(i + 1), data.Y[i])\n",
        "    print()"
      ]
    },
    {
      "cell_type": "markdown",
      "metadata": {
        "id": "QiGlL0etRctZ"
      },
      "source": [
        "#### Accessing (word, tag) Samples\n",
        "The `Dataset.stream()` method returns an iterator that chains together every pair of (word, tag) entries across all sentences in the entire corpus."
      ]
    },
    {
      "cell_type": "code",
      "execution_count": 13,
      "metadata": {
        "colab": {
          "base_uri": "https://localhost:8080/"
        },
        "id": "nf5GPw94Rcta",
        "outputId": "1bd8204e-af19-4ea3-a4c5-5d3bf453d8a1",
        "scrolled": true
      },
      "outputs": [
        {
          "name": "stdout",
          "output_type": "stream",
          "text": [
            "\n",
            "Stream (word, tag) pairs:\n",
            "\n",
            "\t ('Жуткий', 'ADJ')\n",
            "\t ('холод', 'NOUN')\n",
            "\t (',', 'PUNCT')\n",
            "\t ('пробирающий', 'ADJ')\n",
            "\t ('до', 'ADP')\n",
            "\t ('костей', 'NOUN')\n",
            "\t (',', 'PUNCT')\n",
            "\t ('пронзил', 'VERB')\n",
            "\t ('тело', 'NOUN')\n",
            "\t ('разведчика', 'NOUN')\n",
            "\t ('.', 'PUNCT')\n",
            "\t ('Что', 'PRON')\n"
          ]
        }
      ],
      "source": [
        "# use Dataset.stream() (word, tag) samples for the entire corpus\n",
        "sqA = []\n",
        "dct = defaultdict(list)\n",
        "count = Counter()\n",
        "print(\"\\nStream (word, tag) pairs:\\n\")\n",
        "for i, pair in enumerate(data.stream()):\n",
        "    print(\"\\t\", pair)\n",
        "    dct[pair].append(i)\n",
        "    sqA.append(pair[0].lower())\n",
        "    if i > 10: break"
      ]
    },
    {
      "cell_type": "code",
      "execution_count": 14,
      "metadata": {
        "id": "kKoBM7hbRcta"
      },
      "outputs": [],
      "source": [
        "dictTrain =  defaultdict(list)\n",
        "for i, trainPair in enumerate(data.training_set.stream()):\n",
        "    #print(\"\\t\", trainPair)\n",
        "    dictTrain[trainPair].append(i)"
      ]
    },
    {
      "cell_type": "markdown",
      "metadata": {
        "id": "i4ZZn5ndRcta"
      },
      "source": [
        "\n",
        "For both our baseline tagger and the HMM model we'll build, we need to estimate the frequency of tags & words from the frequency counts of observations in the training corpus. In the next several cells you will complete functions to compute the counts of several sets of counts. "
      ]
    },
    {
      "cell_type": "markdown",
      "metadata": {
        "id": "pk3zXNR7Rctb"
      },
      "source": [
        "## Step 2: Build a Most Frequent Class tagger\n",
        "---\n",
        "\n",
        "Perhaps the simplest tagger (and a good baseline for tagger performance) is to simply choose the tag most frequently assigned to each word. This \"most frequent class\" tagger inspects each observed word in the sequence and assigns it the label that was most often assigned to that word in the corpus."
      ]
    },
    {
      "cell_type": "markdown",
      "metadata": {
        "id": "CrYYCUebRctb"
      },
      "source": [
        "### IMPLEMENTATION: Pair Counts\n",
        "\n",
        "Complete the function below that computes the joint frequency counts for two input sequences."
      ]
    },
    {
      "cell_type": "code",
      "execution_count": 15,
      "metadata": {
        "id": "gp3o0rYyRctb"
      },
      "outputs": [],
      "source": [
        "tags = (tag for i, (word, tag) in enumerate(data.training_set.stream()))\n",
        "words = (word for i, (word, tag) in enumerate(data.training_set.stream()))\n",
        "dict_tag_word = defaultdict(list)\n",
        "dict_word = defaultdict(list)"
      ]
    },
    {
      "cell_type": "code",
      "execution_count": 16,
      "metadata": {
        "colab": {
          "base_uri": "https://localhost:8080/",
          "height": 52
        },
        "id": "6crucl-TRctb",
        "outputId": "83c055ea-9797-453b-f4ca-20303be757d6"
      },
      "outputs": [
        {
          "name": "stdout",
          "output_type": "stream",
          "text": [
            "13\n"
          ]
        },
        {
          "data": {
            "text/html": [
              "<div class=\"alert alert-block alert-success\">Your emission counts look good!</div>"
            ],
            "text/plain": [
              "<IPython.core.display.HTML object>"
            ]
          },
          "execution_count": 16,
          "metadata": {},
          "output_type": "execute_result"
        }
      ],
      "source": [
        "def pair_counts(sequences_A=None, sequences_B=None):\n",
        "    \"\"\"Return a dictionary keyed to each unique value in the first sequence list\n",
        "    that counts the number of occurrences of the corresponding value from the\n",
        "    second sequences list.\n",
        "    \n",
        "    For example, if sequences_A is tags and sequences_B is the corresponding\n",
        "    words, then if 1244 sequences contain the word \"time\" tagged as a NOUN, then\n",
        "    you should return a dictionary such that pair_counts[NOUN][time] == 1244\n",
        "    \"\"\"\n",
        "    for i, (tag,word) in enumerate(zip(sequences_A, sequences_B)):\n",
        "        dict_tag_word[tag].append(word)\n",
        "    for k in dict_tag_word.keys():\n",
        "        dict_word[k] = Counter(dict_tag_word[k])\n",
        "    \n",
        "    return dict_word\n",
        "\n",
        "\n",
        "# Calculate C(t_i, w_i)\n",
        "emission_counts = pair_counts(tags, words)\n",
        "print(len(emission_counts))\n",
        "\n",
        "assert len(emission_counts) == 13, \\\n",
        "       \"Uh oh. There should be 13 tags in your dictionary.\"\n",
        "assert max(emission_counts[\"NOUN\"], key=emission_counts[\"NOUN\"].get) == 'время', \\\n",
        "       \"Hmmm...'время' is expected to be the most common NOUN.\"\n",
        "HTML('<div class=\"alert alert-block alert-success\">Your emission counts look good!</div>')"
      ]
    },
    {
      "cell_type": "markdown",
      "metadata": {
        "id": "qdNegsPqRctc"
      },
      "source": [
        "### IMPLEMENTATION: Most Frequent Class Tagger\n",
        "\n",
        "Use the `pair_counts()` function and the training dataset to find the most frequent class label for each word in the training data, and populate the `mfc_table` below. The table keys should be words, and the values should be the appropriate tag string.\n",
        "\n",
        "The `MFCTagger` class is provided to mock the interface of Pomegranite HMM models so that they can be used interchangeably."
      ]
    },
    {
      "cell_type": "code",
      "execution_count": 17,
      "metadata": {
        "id": "MwyEQK0NRctc"
      },
      "outputs": [],
      "source": [
        "tags = (tag for i, (word, tag) in enumerate(data.training_set.stream()))\n",
        "words = (word for i, (word, tag) in enumerate(data.training_set.stream()))\n",
        "dict_word_tag = defaultdict(list)\n",
        "dict_wt = defaultdict(list)"
      ]
    },
    {
      "cell_type": "code",
      "execution_count": 18,
      "metadata": {
        "colab": {
          "base_uri": "https://localhost:8080/",
          "height": 69
        },
        "id": "TwXbHj4pRctc",
        "outputId": "6359686f-f928-4e7e-eac3-e87f79b75921"
      },
      "outputs": [
        {
          "name": "stdout",
          "output_type": "stream",
          "text": [
            "111674\n",
            "<__main__.MFCTagger object at 0x7f6566aa0af0>\n"
          ]
        },
        {
          "data": {
            "text/html": [
              "<div class=\"alert alert-block alert-success\">Your MFC tagger has all the correct words!</div>"
            ],
            "text/plain": [
              "<IPython.core.display.HTML object>"
            ]
          },
          "execution_count": 18,
          "metadata": {},
          "output_type": "execute_result"
        }
      ],
      "source": [
        "# Create a lookup table mfc_table where mfc_table[word] contains the tag label most frequently assigned to that word\n",
        "from collections import namedtuple\n",
        "\n",
        "FakeState = namedtuple(\"FakeState\", \"name\")\n",
        "\n",
        "class MFCTagger:\n",
        "    # NOTE: You should not need to modify this class or any of its methods\n",
        "    missing = FakeState(name=\"<MISSING>\")\n",
        "    \n",
        "    def __init__(self, table):\n",
        "        self.table = defaultdict(lambda: MFCTagger.missing)\n",
        "        self.table.update({word: FakeState(name=tag) for word, tag in table.items()})\n",
        "        \n",
        "    def viterbi(self, seq):\n",
        "        \"\"\"This method simplifies predictions by matching the Pomegranate viterbi() interface\"\"\"\n",
        "        return 0., list(enumerate([\"<start>\"] + [self.table[w] for w in seq] + [\"<end>\"]))\n",
        "\n",
        "\n",
        "# TODO: calculate the frequency of each tag being assigned to each word (hint: similar, but not the same as the emission probabilities) and use it to fill the mfc_table\n",
        "for i, (tag,word) in enumerate(zip(tags,words)):\n",
        "    dict_word_tag[word].append(tag)\n",
        "for k in dict_word_tag.keys():\n",
        "    dict_wt[k] = (Counter(dict_word_tag[k])).most_common(1)[0][0]\n",
        "#print(dict_wt)\n",
        "#(Counter(dict_word_tag['time'])).most_common(1)[0][0]\n",
        "len(dict_wt)\n",
        "print(len(dict_wt))\n",
        "len(data.training_set.vocab)\n",
        "len(dict_word_tag.keys())\n",
        "word_counts = pair_counts(tags,words)\n",
        "#print(len(data.training_set.vocab))\n",
        "\n",
        "mfc_table = dict_wt\n",
        "#print(mfc_table)\n",
        "\n",
        "# DO NOT MODIFY BELOW THIS LINE\n",
        "mfc_model = MFCTagger(mfc_table) # Create a Most Frequent Class tagger instance\n",
        "print(MFCTagger(mfc_table))\n",
        "\n",
        "assert len(mfc_table) == len(data.training_set.vocab), \"\"\n",
        "assert all(k in data.training_set.vocab for k in mfc_table.keys()), \"\"\n",
        "assert sum(int(k not in mfc_table) for k in data.testing_set.vocab) == len(data.testing_set.vocab - data.training_set.vocab), \"\"\n",
        "HTML('<div class=\"alert alert-block alert-success\">Your MFC tagger has all the correct words!</div>')"
      ]
    },
    {
      "cell_type": "markdown",
      "metadata": {
        "id": "z9nH4WiSRctd"
      },
      "source": [
        "### Making Predictions with a Model\n",
        "The helper functions provided below interface with Pomegranate network models & the mocked MFCTagger to take advantage of the [missing value](http://pomegranate.readthedocs.io/en/latest/nan.html) functionality in Pomegranate through a simple sequence decoding function. Run these functions, then run the next cell to see some of the predictions made by the MFC tagger."
      ]
    },
    {
      "cell_type": "code",
      "execution_count": 19,
      "metadata": {
        "id": "WsoSPtWcRctd"
      },
      "outputs": [],
      "source": [
        "def replace_unknown(sequence):\n",
        "    \"\"\"Return a copy of the input sequence where each unknown word is replaced\n",
        "    by the literal string value 'nan'. Pomegranate will ignore these values\n",
        "    during computation.\n",
        "    \"\"\"\n",
        "    return [w if w in data.training_set.vocab else 'nan' for w in sequence]\n",
        "\n",
        "def simplify_decoding(X, model):\n",
        "    \"\"\"X should be a 1-D sequence of observations for the model to predict\"\"\"\n",
        "    _, state_path = model.viterbi(replace_unknown(X))\n",
        "    return [state[1].name for state in state_path[1:-1]]  # do not show the start/end state predictions"
      ]
    },
    {
      "cell_type": "markdown",
      "metadata": {
        "id": "hxyajXonRctd"
      },
      "source": [
        "### Example Decoding Sequences with MFC Tagger"
      ]
    },
    {
      "cell_type": "code",
      "execution_count": 20,
      "metadata": {
        "colab": {
          "base_uri": "https://localhost:8080/"
        },
        "id": "zTplUPiJRctd",
        "outputId": "2b7b8739-6300-4c06-949e-6caa6af01695"
      },
      "outputs": [
        {
          "name": "stdout",
          "output_type": "stream",
          "text": [
            "Sentence Key: g-125375861059832204716871290359322076738\n",
            "\n",
            "Predicted labels:\n",
            "-----------------\n",
            "['<MISSING>', 'ADJ', 'NOUN', 'NOUN', 'ADP', 'ADJ', 'NOUN', 'PUNCT', 'CONJ', 'ADV', 'NOUN', 'PART', 'VERB', 'DET', 'NOUN', 'PUNCT']\n",
            "\n",
            "Actual labels:\n",
            "--------------\n",
            "('VERB', 'ADJ', 'NOUN', 'NOUN', 'ADP', 'ADJ', 'NOUN', 'PUNCT', 'CONJ', 'ADV', 'NOUN', 'PART', 'VERB', 'DET', 'NOUN', 'PUNCT')\n",
            "\n",
            "\n",
            "Sentence Key: g-60760224413875912995641932380476062442\n",
            "\n",
            "Predicted labels:\n",
            "-----------------\n",
            "['<MISSING>', 'PUNCT', 'ADJ', 'PRON', 'CONJ', '<MISSING>', 'PUNCT']\n",
            "\n",
            "Actual labels:\n",
            "--------------\n",
            "('VERB', 'PUNCT', 'ADJ', 'PRON', 'CONJ', 'VERB', 'PUNCT')\n",
            "\n",
            "\n",
            "Sentence Key: g-62592124366272137791632597308965735081\n",
            "\n",
            "Predicted labels:\n",
            "-----------------\n",
            "['<MISSING>', 'ADP', 'NOUN', 'CONJ', 'NOUN', 'PRON', '<MISSING>', 'ADV', 'PUNCT']\n",
            "\n",
            "Actual labels:\n",
            "--------------\n",
            "('NOUN', 'ADP', 'NOUN', 'CONJ', 'NOUN', 'PRON', 'VERB', 'ADV', 'PUNCT')\n",
            "\n",
            "\n"
          ]
        }
      ],
      "source": [
        "for key in data.testing_set.keys[:3]:\n",
        "    print(\"Sentence Key: {}\\n\".format(key))\n",
        "    print(\"Predicted labels:\\n-----------------\")\n",
        "    print(simplify_decoding(data.sentences[key].words, mfc_model))\n",
        "    print()\n",
        "    print(\"Actual labels:\\n--------------\")\n",
        "    print(data.sentences[key].tags)\n",
        "    print(\"\\n\")"
      ]
    },
    {
      "cell_type": "markdown",
      "metadata": {
        "id": "QOG3gCb5Rcte"
      },
      "source": [
        "### Evaluating Model Accuracy\n",
        "\n",
        "The function below will evaluate the accuracy of the MFC tagger on the collection of all sentences from a text corpus. "
      ]
    },
    {
      "cell_type": "code",
      "execution_count": 21,
      "metadata": {
        "id": "d--9b1NARcte"
      },
      "outputs": [],
      "source": [
        "def accuracy(X, Y, model):\n",
        "    \"\"\"Calculate the prediction accuracy by using the model to decode each sequence\n",
        "    in the input X and comparing the prediction with the true labels in Y.\n",
        "    \n",
        "    The X should be an array whose first dimension is the number of sentences to test,\n",
        "    and each element of the array should be an iterable of the words in the sequence.\n",
        "    The arrays X and Y should have the exact same shape.\n",
        "    \n",
        "    X = [(\"See\", \"Spot\", \"run\"), (\"Run\", \"Spot\", \"run\", \"fast\"), ...]\n",
        "    Y = [(), (), ...]\n",
        "    \"\"\"\n",
        "    correct = total_predictions = 0\n",
        "    for observations, actual_tags in zip(X, Y):\n",
        "        \n",
        "        # The model.viterbi call in simplify_decoding will return None if the HMM\n",
        "        # raises an error (for example, if a test sentence contains a word that\n",
        "        # is out of vocabulary for the training set). Any exception counts the\n",
        "        # full sentence as an error (which makes this a conservative estimate).\n",
        "        try:\n",
        "            most_likely_tags = simplify_decoding(observations, model)\n",
        "            correct += sum(p == t for p, t in zip(most_likely_tags, actual_tags))\n",
        "        except:\n",
        "            pass\n",
        "        total_predictions += len(observations)\n",
        "    return correct / total_predictions"
      ]
    },
    {
      "cell_type": "markdown",
      "metadata": {
        "id": "25GID7mzRcte"
      },
      "source": [
        "#### Evaluate the accuracy of the MFC tagger\n",
        "Run the next cell to evaluate the accuracy of the tagger on the training and test corpus."
      ]
    },
    {
      "cell_type": "code",
      "execution_count": 22,
      "metadata": {
        "colab": {
          "base_uri": "https://localhost:8080/",
          "height": 69
        },
        "id": "irRFjfMlRcte",
        "outputId": "50ab6ef9-8c24-4151-8fae-380daf1ae58c"
      },
      "outputs": [
        {
          "name": "stdout",
          "output_type": "stream",
          "text": [
            "training accuracy mfc_model: 97.29%\n",
            "testing accuracy mfc_model: 89.87%\n"
          ]
        },
        {
          "data": {
            "text/html": [
              "<div class=\"alert alert-block alert-success\">Your MFC tagger accuracy looks correct!</div>"
            ],
            "text/plain": [
              "<IPython.core.display.HTML object>"
            ]
          },
          "execution_count": 22,
          "metadata": {},
          "output_type": "execute_result"
        }
      ],
      "source": [
        "mfc_training_acc = accuracy(data.training_set.X, data.training_set.Y, mfc_model)\n",
        "print(\"training accuracy mfc_model: {:.2f}%\".format(100 * mfc_training_acc))\n",
        "\n",
        "mfc_testing_acc = accuracy(data.testing_set.X, data.testing_set.Y, mfc_model)\n",
        "print(\"testing accuracy mfc_model: {:.2f}%\".format(100 * mfc_testing_acc))\n",
        "\n",
        "assert mfc_training_acc >= 0.955, \"Uh oh. Your MFC accuracy on the training set doesn't look right.\"\n",
        "assert mfc_testing_acc >= 0.85, \"Uh oh. Your MFC accuracy on the testing set doesn't look right.\"\n",
        "HTML('<div class=\"alert alert-block alert-success\">Your MFC tagger accuracy looks correct!</div>')"
      ]
    },
    {
      "cell_type": "markdown",
      "metadata": {
        "id": "1MKdeb19Rcte"
      },
      "source": [
        "## Step 3: Build an HMM tagger\n",
        "---\n",
        "The HMM tagger has one hidden state for each possible tag, and parameterized by two distributions: the emission probabilties giving the conditional probability of observing a given **word** from each hidden state, and the transition probabilities giving the conditional probability of moving between **tags** during the sequence.\n",
        "\n",
        "We will also estimate the starting probability distribution (the probability of each **tag** being the first tag in a sequence), and the terminal probability distribution (the probability of each **tag** being the last tag in a sequence).\n",
        "\n",
        "The maximum likelihood estimate of these distributions can be calculated from the frequency counts as described in the following sections where you'll implement functions to count the frequencies, and finally build the model. The HMM model will make predictions according to the formula:\n",
        "\n",
        "$$t_i^n = \\underset{t_i^n}{\\mathrm{argmin}} \\prod_{i=1}^n P(w_i|t_i) P(t_i|t_{i-1})$$\n",
        "\n",
        "Refer to Speech & Language Processing [Chapter 10](https://web.stanford.edu/~jurafsky/slp3/10.pdf) for more information."
      ]
    },
    {
      "cell_type": "markdown",
      "metadata": {
        "id": "U-3NSQk6Rctf"
      },
      "source": [
        "### IMPLEMENTATION: Unigram Counts\n",
        "\n",
        "Complete the function below to estimate the co-occurrence frequency of each symbol over all of the input sequences. The unigram probabilities in our HMM model are estimated from the formula below, where N is the total number of samples in the input. (You only need to compute the counts for now.)\n",
        "\n",
        "$$P(tag_1) = \\frac{C(tag_1)}{N}$$"
      ]
    },
    {
      "cell_type": "code",
      "execution_count": 23,
      "metadata": {
        "id": "gcqVhthtRctf"
      },
      "outputs": [],
      "source": [
        "tags = [tag for i, (word, tag) in enumerate(data.training_set.stream())]\n",
        "dict_tag = {}"
      ]
    },
    {
      "cell_type": "code",
      "execution_count": 24,
      "metadata": {
        "colab": {
          "base_uri": "https://localhost:8080/",
          "height": 34
        },
        "id": "pOSy7QobRctf",
        "outputId": "85e06fda-4609-43a8-a46a-ba46ed55d80e"
      },
      "outputs": [
        {
          "data": {
            "text/html": [
              "<div class=\"alert alert-block alert-success\">Your tag unigrams look good!</div>"
            ],
            "text/plain": [
              "<IPython.core.display.HTML object>"
            ]
          },
          "execution_count": 24,
          "metadata": {},
          "output_type": "execute_result"
        }
      ],
      "source": [
        "def unigram_counts(sequences):\n",
        "    \"\"\"Return a dictionary keyed to each unique value in the input sequence list that\n",
        "    counts the number of occurrences of the value in the sequences list. The sequences\n",
        "    collection should be a 2-dimensional array.\n",
        "    \n",
        "    For example, if the tag NOUN appears 275558 times over all the input sequences,\n",
        "    then you should return a dictionary such that your_unigram_counts[NOUN] == 275558.\n",
        "    \"\"\"\n",
        "    # TODO: Finish this function!\n",
        "    for tag in sequences:\n",
        "        if tag in dict_tag.keys():\n",
        "            dict_tag[tag] += 1\n",
        "        else: dict_tag[tag] = 1\n",
        "    #raise NotImplementedError\n",
        "    return dict_tag\n",
        "\n",
        "# TODO: call unigram_counts with a list of tag sequences from the training set\n",
        "\n",
        "tag_unigrams = unigram_counts(tags)\n",
        "\n",
        "assert set(tag_unigrams.keys()) == data.training_set.tagset, \\\n",
        "       \"Uh oh. It looks like your tag counts doesn't include all the tags!\"\n",
        "assert min(tag_unigrams, key=tag_unigrams.get) == 'INTJ', \\\n",
        "       \"Hmmm...'INTJ' is expected to be the least common class\"\n",
        "assert max(tag_unigrams, key=tag_unigrams.get) == 'NOUN', \\\n",
        "       \"Hmmm...'NOUN' is expected to be the most common class\"\n",
        "HTML('<div class=\"alert alert-block alert-success\">Your tag unigrams look good!</div>')"
      ]
    },
    {
      "cell_type": "markdown",
      "metadata": {
        "id": "GSapefhuRctf"
      },
      "source": [
        "### IMPLEMENTATION: Bigram Counts\n",
        "\n",
        "Complete the function below to estimate the co-occurrence frequency of each pair of symbols in each of the input sequences. These counts are used in the HMM model to estimate the bigram probability of two tags from the frequency counts according to the formula: $$P(tag_2|tag_1) = \\frac{C(tag_2|tag_1)}{C(tag_2)}$$\n"
      ]
    },
    {
      "cell_type": "code",
      "execution_count": 58,
      "metadata": {
        "id": "p51fxBJ9Rctg"
      },
      "outputs": [],
      "source": [
        "tags = [tag for i, (word, tag) in enumerate(data.training_set.stream())]\n",
        "sq = list(zip(tags[:-1],tags[2:]))\n",
        "dict_sq = {}"
      ]
    },
    {
      "cell_type": "code",
      "execution_count": 62,
      "metadata": {
        "colab": {
          "base_uri": "https://localhost:8080/",
          "height": 34
        },
        "id": "th4GK3t0Rctg",
        "outputId": "5aa84bbc-cf33-4251-b58e-d1a2618fce25"
      },
      "outputs": [
        {
          "data": {
            "text/html": [
              "<div class=\"alert alert-block alert-success\">Your tag bigrams look good!</div>"
            ],
            "text/plain": [
              "<IPython.core.display.HTML object>"
            ]
          },
          "execution_count": 62,
          "metadata": {},
          "output_type": "execute_result"
        }
      ],
      "source": [
        "def bigram_counts(sequences):\n",
        "    \"\"\"Return a dictionary keyed to each unique PAIR of values in the input sequences\n",
        "    list that counts the number of occurrences of pair in the sequences list. The input\n",
        "    should be a 2-dimensional array.\n",
        "    \n",
        "    For example, if the pair of tags (NOUN, VERB) appear 61582 times, then you should\n",
        "    return a dictionary such that your_bigram_counts[(NOUN, VERB)] == 61582\n",
        "    \"\"\"\n",
        "\n",
        "    # TODO: Finish this function!\n",
        "    for tag_pair in sequences:\n",
        "        if tag_pair in dict_sq.keys():\n",
        "            dict_sq[tag_pair] += 1\n",
        "        else: dict_sq[tag_pair] = 1\n",
        "    return dict_sq\n",
        "    raise NotImplementedError\n",
        "\n",
        "# TODO: call bigram_counts with a list of tag sequences from the training set\n",
        "tag_bigrams = bigram_counts(sq)\n",
        "\n",
        "#print(tag_bigrams)\n",
        "tag_bigrams_rev = dict(sorted(tag_bigrams.items(), reverse = True, key=lambda x: x[1])) #сортировка словаря с частями речи и тегами, чтобы наибольшие значения стояли в начале списка\n",
        "#print(tag_bigrams_rev)\n",
        "\n",
        "\n",
        "assert len(tag_bigrams) == 169, \\\n",
        "       \"Uh oh. There should be 169 pairs of bigrams (13 tags x 13 tags)\"\n",
        "assert min(tag_bigrams_rev, key=tag_bigrams_rev.get) in [('VERB', 'INTJ'), ('NUM', 'INTJ'), ('ADJ', 'INTJ'), ('INTJ', 'NUM'), ('H', 'INTJ'), ('INTJ', 'H')], \\\n",
        "       \"Hmmm...The least common bigram should be one of ('PRON', 'INTJ') or ('INTJ', 'ADP') or ('PART', 'H') or ('ADP', 'CONJ') or ('ADV', 'INTJ') or ('H', 'CONJ') or ('INTJ', 'PRON') or ('H', 'DET') or ('INTJ', 'H') or ('ADJ', 'H') or ('DET', 'H') or ('ADV', 'H').\"\n",
        "assert max(tag_bigrams_rev, key=tag_bigrams_rev.get) in [('NOUN', 'NOUN')], \\\n",
        "       \"Hmmm...('NOUN', 'PUNCT') is expected to be the most common bigram.\"\n",
        "HTML('<div class=\"alert alert-block alert-success\">Your tag bigrams look good!</div>')"
      ]
    },
    {
      "cell_type": "code",
      "execution_count": 60,
      "metadata": {
        "colab": {
          "base_uri": "https://localhost:8080/"
        },
        "id": "PHyZaern_nid",
        "outputId": "7577ea7e-ad8d-4eab-bf22-e79dda5ef4a2"
      },
      "outputs": [
        {
          "data": {
            "text/plain": [
              "169"
            ]
          },
          "execution_count": 60,
          "metadata": {},
          "output_type": "execute_result"
        }
      ],
      "source": [
        "len(tag_bigrams)"
      ]
    },
    {
      "cell_type": "markdown",
      "metadata": {
        "id": "VYXoZvEaRctg"
      },
      "source": [
        "### IMPLEMENTATION: Sequence Starting Counts\n",
        "Complete the code below to estimate the bigram probabilities of a sequence starting with each tag."
      ]
    },
    {
      "cell_type": "code",
      "execution_count": 28,
      "metadata": {
        "id": "73mIAmB-Rctg"
      },
      "outputs": [],
      "source": [
        "data.training_set.tagset\n",
        "dict_starting = defaultdict(list)"
      ]
    },
    {
      "cell_type": "code",
      "execution_count": 29,
      "metadata": {
        "colab": {
          "base_uri": "https://localhost:8080/",
          "height": 34
        },
        "id": "vmS-whUgRcth",
        "outputId": "512f73fe-0168-4d4e-be99-59a7eeda0a5a"
      },
      "outputs": [
        {
          "data": {
            "text/html": [
              "<div class=\"alert alert-block alert-success\">Your starting tag counts look good!</div>"
            ],
            "text/plain": [
              "<IPython.core.display.HTML object>"
            ]
          },
          "execution_count": 29,
          "metadata": {},
          "output_type": "execute_result"
        }
      ],
      "source": [
        "def starting_counts(sequences):\n",
        "    \"\"\"Return a dictionary keyed to each unique value in the input sequences list\n",
        "    that counts the number of occurrences where that value is at the beginning of\n",
        "    a sequence.\n",
        "    \n",
        "    For example, if 8093 sequences start with NOUN, then you should return a\n",
        "    dictionary such that your_starting_counts[NOUN] == 8093\n",
        "    \"\"\"\n",
        "    # TODO: Finish this function!\n",
        "    for tag in data.training_set.tagset:\n",
        "        dict_starting[tag] = len([seq[0] for seq in sequences if seq[0]==tag])\n",
        "    return dict_starting\n",
        "\n",
        "# TODO: Calculate the count of each tag starting a sequence\n",
        "tag_starts = starting_counts(data.training_set.Y)\n",
        "\n",
        "tag_starts_rev = dict(sorted(tag_starts.items(), reverse = True, key=lambda x: x[1]))#сортировка словаря с частями речи и кол-вом раз, когда они были присвоены, чтобы наибольшие значения стояли в начале списка\n",
        "#print(tag_starts_rev)\n",
        "\n",
        "assert len(tag_starts_rev) == 13, \"Uh oh. There should be 13 tags in your dictionary.\"\n",
        "assert min(tag_starts_rev, key=tag_starts_rev.get) == 'INTJ', \"Hmmm...''INTJ'' is expected to be the least common starting bigram.\"\n",
        "assert max(tag_starts_rev, key=tag_starts_rev.get) == 'PRON', \"Hmmm...'NOUN' is expected to be the most common starting bigram.\"\n",
        "HTML('<div class=\"alert alert-block alert-success\">Your starting tag counts look good!</div>')"
      ]
    },
    {
      "cell_type": "code",
      "execution_count": 30,
      "metadata": {
        "colab": {
          "base_uri": "https://localhost:8080/"
        },
        "id": "j1lJfj3uAcKT",
        "outputId": "71859606-f461-4673-9ca1-29cd0821e35a"
      },
      "outputs": [
        {
          "data": {
            "text/plain": [
              "{'PRON': 11264,\n",
              " 'NOUN': 10448,\n",
              " 'CONJ': 10425,\n",
              " 'ADP': 7749,\n",
              " 'ADV': 7128,\n",
              " 'VERB': 5915,\n",
              " 'ADJ': 4185,\n",
              " 'DET': 2838,\n",
              " 'PART': 2800,\n",
              " 'PUNCT': 1415,\n",
              " 'H': 1089,\n",
              " 'NUM': 727,\n",
              " 'INTJ': 535}"
            ]
          },
          "execution_count": 30,
          "metadata": {},
          "output_type": "execute_result"
        }
      ],
      "source": [
        "tag_starts_rev"
      ]
    },
    {
      "cell_type": "markdown",
      "metadata": {
        "id": "oppsZAAGRcth"
      },
      "source": [
        "### IMPLEMENTATION: Sequence Ending Counts\n",
        "Complete the function below to estimate the bigram probabilities of a sequence ending with each tag."
      ]
    },
    {
      "cell_type": "code",
      "execution_count": 31,
      "metadata": {
        "id": "C3jeZB9hRcth"
      },
      "outputs": [],
      "source": [
        "dict_ending = defaultdict(list)"
      ]
    },
    {
      "cell_type": "code",
      "execution_count": 32,
      "metadata": {
        "colab": {
          "base_uri": "https://localhost:8080/",
          "height": 34
        },
        "id": "ICORXa1qRcth",
        "outputId": "7df37d00-9abf-47b4-f07c-931f2f003796"
      },
      "outputs": [
        {
          "data": {
            "text/html": [
              "<div class=\"alert alert-block alert-success\">Your ending tag counts look good!</div>"
            ],
            "text/plain": [
              "<IPython.core.display.HTML object>"
            ]
          },
          "execution_count": 32,
          "metadata": {},
          "output_type": "execute_result"
        }
      ],
      "source": [
        "def ending_counts(sequences):\n",
        "    \"\"\"Return a dictionary keyed to each unique value in the input sequences list\n",
        "    that counts the number of occurrences where that value is at the end of\n",
        "    a sequence.\n",
        "    \n",
        "    For example, if 18 sequences end with DET, then you should return a\n",
        "    dictionary such that your_starting_counts[DET] == 18\n",
        "    \"\"\"\n",
        "    # TODO: Finish this function!\n",
        "    for tag in data.training_set.tagset:\n",
        "        dict_ending[tag] = len([seq[-1] for seq in sequences if seq[-1]==tag])\n",
        "    return dict_ending\n",
        "    #raise NotImplementedError\n",
        "\n",
        "# TODO: Calculate the count of each tag ending a sequence\n",
        "tag_ends = ending_counts(data.training_set.Y)\n",
        "\n",
        "a = min(tag_ends, key=tag_ends.get)\n",
        "b= max(tag_ends, key=tag_ends.get)\n",
        "#print(a)\n",
        "#print(b)\n",
        "\n",
        "assert len(tag_ends) == 13, \"Uh oh. There should be 13 tags in your dictionary.\"\n",
        "assert min(tag_ends, key=tag_ends.get) == \"ADP\", \"Hmmm...'ADP' should be the least common ending bigram.\"\n",
        "assert max(tag_ends, key=tag_ends.get) == 'PUNCT', \"Hmmm...'PUNCT' is expected to be the most common ending bigram.\"\n",
        "HTML('<div class=\"alert alert-block alert-success\">Your ending tag counts look good!</div>')"
      ]
    },
    {
      "cell_type": "code",
      "execution_count": 33,
      "metadata": {
        "colab": {
          "base_uri": "https://localhost:8080/"
        },
        "id": "Eb7ieG0XAlLD",
        "outputId": "2e780747-a55a-4e0c-d748-d8b0424b0a10"
      },
      "outputs": [
        {
          "data": {
            "text/plain": [
              "defaultdict(list,\n",
              "            {'NOUN': 746,\n",
              "             'DET': 20,\n",
              "             'PRON': 51,\n",
              "             'ADP': 0,\n",
              "             'NUM': 35,\n",
              "             'PART': 12,\n",
              "             'ADJ': 119,\n",
              "             'VERB': 278,\n",
              "             'H': 1,\n",
              "             'CONJ': 17,\n",
              "             'INTJ': 0,\n",
              "             'ADV': 88,\n",
              "             'PUNCT': 65151})"
            ]
          },
          "execution_count": 33,
          "metadata": {},
          "output_type": "execute_result"
        }
      ],
      "source": [
        "tag_ends"
      ]
    },
    {
      "cell_type": "markdown",
      "metadata": {
        "id": "NPKHRSjvRcti"
      },
      "source": [
        "### IMPLEMENTATION: Basic HMM Tagger\n",
        "Use the tag unigrams and bigrams calculated above to construct a hidden Markov tagger.\n",
        "\n",
        "- Add one state per tag\n",
        "    - The emission distribution at each state should be estimated with the formula: $P(w|t) = \\frac{C(t, w)}{C(t)}$\n",
        "- Add an edge from the starting state `basic_model.start` to each tag\n",
        "    - The transition probability should be estimated with the formula: $P(t|start) = \\frac{C(start, t)}{C(start)}$\n",
        "- Add an edge from each tag to the end state `basic_model.end`\n",
        "    - The transition probability should be estimated with the formula: $P(end|t) = \\frac{C(t, end)}{C(t)}$\n",
        "- Add an edge between _every_ pair of tags\n",
        "    - The transition probability should be estimated with the formula: $P(t_2|t_1) = \\frac{C(t_1, t_2)}{C(t_1)}$"
      ]
    },
    {
      "cell_type": "code",
      "execution_count": 64,
      "metadata": {
        "colab": {
          "base_uri": "https://localhost:8080/",
          "height": 34
        },
        "id": "fWF1KVIoRcti",
        "outputId": "73a66228-ece1-4205-f1f1-c4fa6da97ee1"
      },
      "outputs": [
        {
          "data": {
            "text/html": [
              "<div class=\"alert alert-block alert-success\">Your HMM network topology looks good!</div>"
            ],
            "text/plain": [
              "<IPython.core.display.HTML object>"
            ]
          },
          "execution_count": 64,
          "metadata": {},
          "output_type": "execute_result"
        }
      ],
      "source": [
        "basic_model = HiddenMarkovModel(name=\"base-hmm-tagger\")\n",
        "\n",
        "# TODO: create states with emission probability distributions P(word | tag) and add to the model\n",
        "# (Hint: you may need to loop & create/add new states)\n",
        "\n",
        "count_tag_and_word = pair_counts(tags, words)\n",
        "states = {}\n",
        "for tag, word_dict in count_tag_and_word.items(): #data.training_set.tagset\n",
        "    p_words_given_tag_state = defaultdict(float)\n",
        "    # for each tag/word, calculate P(word|tag)\n",
        "    for word in word_dict.keys(): # data.training_set.vocab\n",
        "        p_words_given_tag_state[word] = count_tag_and_word[tag][word] / tag_unigrams[tag] \n",
        "    # create a new state for each tag from the dict of words that represents P(word|tag)\n",
        "    emission = DiscreteDistribution(dict(p_words_given_tag_state))\n",
        "    states[tag] = State(emission, name=tag)\n",
        "    \n",
        "basic_model.add_states(list(states.values()))\n",
        "\n",
        "# Adding start states\n",
        "for tag in data.training_set.tagset:\n",
        "    state = states[tag]\n",
        "    basic_model.add_transition(basic_model.start, state, tag_starts[tag]/len(data.training_set))\n",
        "\n",
        "# Adding end states\n",
        "for tag in data.training_set.tagset:\n",
        "    state = states[tag]\n",
        "    basic_model.add_transition(state, basic_model.end, tag_ends[tag]/tag_unigrams[tag])\n",
        "\n",
        "# Adding pairs\n",
        "for tag1 in data.training_set.tagset:\n",
        "    state1 = states[tag1]\n",
        "    for tag2 in data.training_set.tagset:\n",
        "        state2 = states[tag2]\n",
        "        basic_model.add_transition(state1, state2, tag_bigrams[(tag1, tag2)]/tag_unigrams[tag1])\n",
        "\n",
        "# finalize the model\n",
        "basic_model.bake()\n",
        "\n",
        "assert all(tag in set(s.name for s in basic_model.states) for tag in data.training_set.tagset), \\\n",
        "       \"Every state in your network should use the name of the associated tag, which must be one of the training set tags.\"\n",
        "# assert basic_model.edge_count() == 168, \\\n",
        "#        (\"Your network should have an edge from the start node to each state, one edge between every \" +\n",
        "#         \"pair of tags (states), and an edge from each state to the end node.\")\n",
        "HTML('<div class=\"alert alert-block alert-success\">Your HMM network topology looks good!</div>')"
      ]
    },
    {
      "cell_type": "code",
      "execution_count": 40,
      "metadata": {
        "colab": {
          "base_uri": "https://localhost:8080/"
        },
        "id": "yU6BtMUV-5DM",
        "outputId": "0d2c1276-29bd-4c60-f37f-f01db6d6056c"
      },
      "outputs": [
        {
          "data": {
            "text/plain": [
              "10"
            ]
          },
          "execution_count": 40,
          "metadata": {},
          "output_type": "execute_result"
        }
      ],
      "source": [
        "tag_bigrams[('NOUN', 'INTJ')]"
      ]
    },
    {
      "cell_type": "code",
      "execution_count": 66,
      "metadata": {
        "colab": {
          "base_uri": "https://localhost:8080/",
          "height": 69
        },
        "id": "Q53WBKE2Rcti",
        "outputId": "207e4678-f113-42a4-f5d2-63ac3425b231",
        "scrolled": true
      },
      "outputs": [
        {
          "name": "stdout",
          "output_type": "stream",
          "text": [
            "training accuracy basic hmm model: 97.11%\n",
            "testing accuracy basic hmm model: 91.86%\n"
          ]
        },
        {
          "data": {
            "text/html": [
              "<div class=\"alert alert-block alert-success\">Your HMM tagger accuracy looks correct! Congratulations, you've finished the project.</div>"
            ],
            "text/plain": [
              "<IPython.core.display.HTML object>"
            ]
          },
          "execution_count": 66,
          "metadata": {},
          "output_type": "execute_result"
        }
      ],
      "source": [
        "hmm_training_acc = accuracy(data.training_set.X, data.training_set.Y, basic_model)\n",
        "print(\"training accuracy basic hmm model: {:.2f}%\".format(100 * hmm_training_acc))\n",
        "\n",
        "hmm_testing_acc = accuracy(data.testing_set.X, data.testing_set.Y, basic_model)\n",
        "print(\"testing accuracy basic hmm model: {:.2f}%\".format(100 * hmm_testing_acc))\n",
        "\n",
        "assert hmm_training_acc > 0.97, \"Uh oh. Your HMM accuracy on the training set doesn't look right.\"\n",
        "assert hmm_testing_acc > 0.85, \"Uh oh. Your HMM accuracy on the testing set doesn't look right.\"\n",
        "HTML('<div class=\"alert alert-block alert-success\">Your HMM tagger accuracy looks correct! Congratulations, you\\'ve finished the project.</div>')"
      ]
    },
    {
      "cell_type": "markdown",
      "metadata": {
        "id": "OgokcSYoRcti"
      },
      "source": [
        "### Example Decoding Sequences with the HMM Tagger"
      ]
    },
    {
      "cell_type": "code",
      "execution_count": 67,
      "metadata": {
        "colab": {
          "base_uri": "https://localhost:8080/"
        },
        "id": "1CmPLiB6Rctj",
        "outputId": "bea8acb5-988f-4f12-b106-d800491dc560"
      },
      "outputs": [
        {
          "name": "stdout",
          "output_type": "stream",
          "text": [
            "Sentence Key: g-125375861059832204716871290359322076738\n",
            "\n",
            "Predicted labels:\n",
            "-----------------\n",
            "['NOUN', 'ADJ', 'NOUN', 'NOUN', 'ADP', 'ADJ', 'NOUN', 'PUNCT', 'CONJ', 'ADV', 'NOUN', 'PART', 'VERB', 'DET', 'NOUN', 'PUNCT']\n",
            "\n",
            "Actual labels:\n",
            "--------------\n",
            "('VERB', 'ADJ', 'NOUN', 'NOUN', 'ADP', 'ADJ', 'NOUN', 'PUNCT', 'CONJ', 'ADV', 'NOUN', 'PART', 'VERB', 'DET', 'NOUN', 'PUNCT')\n",
            "\n",
            "\n",
            "Sentence Key: g-60760224413875912995641932380476062442\n",
            "\n",
            "Predicted labels:\n",
            "-----------------\n",
            "['ADP', 'PUNCT', 'ADJ', 'PRON', 'CONJ', 'VERB', 'PUNCT']\n",
            "\n",
            "Actual labels:\n",
            "--------------\n",
            "('VERB', 'PUNCT', 'ADJ', 'PRON', 'CONJ', 'VERB', 'PUNCT')\n",
            "\n",
            "\n",
            "Sentence Key: g-62592124366272137791632597308965735081\n",
            "\n",
            "Predicted labels:\n",
            "-----------------\n",
            "['PRON', 'ADP', 'NOUN', 'CONJ', 'NOUN', 'PRON', 'VERB', 'ADV', 'PUNCT']\n",
            "\n",
            "Actual labels:\n",
            "--------------\n",
            "('NOUN', 'ADP', 'NOUN', 'CONJ', 'NOUN', 'PRON', 'VERB', 'ADV', 'PUNCT')\n",
            "\n",
            "\n"
          ]
        }
      ],
      "source": [
        "for key in data.testing_set.keys[:3]:\n",
        "    print(\"Sentence Key: {}\\n\".format(key))\n",
        "    print(\"Predicted labels:\\n-----------------\")\n",
        "    print(simplify_decoding(data.sentences[key].words, basic_model))\n",
        "    print()\n",
        "    print(\"Actual labels:\\n--------------\")\n",
        "    print(data.sentences[key].tags)\n",
        "    print(\"\\n\")"
      ]
    },
    {
      "cell_type": "markdown",
      "metadata": {
        "id": "WXe-r8KVRctj"
      },
      "source": [
        "\n",
        "## Finishing the project\n",
        "---\n",
        "\n",
        "<div class=\"alert alert-block alert-info\">\n",
        "**Note:** **SAVE YOUR NOTEBOOK**, then run the next cell to generate an HTML copy. You will zip & submit both this file and the HTML copy for review.\n",
        "</div>"
      ]
    },
    {
      "cell_type": "code",
      "execution_count": null,
      "metadata": {
        "id": "jcosjQdMRctj"
      },
      "outputs": [],
      "source": [
        "!!jupyter nbconvert *.ipynb"
      ]
    },
    {
      "cell_type": "markdown",
      "metadata": {
        "id": "fupe-Z8SRctj"
      },
      "source": [
        "## Step 4: [Optional] Improving model performance\n",
        "---\n",
        "There are additional enhancements that can be incorporated into your tagger that improve performance on larger tagsets where the data sparsity problem is more significant. The data sparsity problem arises because the same amount of data split over more tags means there will be fewer samples in each tag, and there will be more missing data  tags that have zero occurrences in the data. The techniques in this section are optional.\n",
        "\n",
        "- [Laplace Smoothing](https://en.wikipedia.org/wiki/Additive_smoothing) (pseudocounts)\n",
        "    Laplace smoothing is a technique where you add a small, non-zero value to all observed counts to offset for unobserved values.\n",
        "\n",
        "- Backoff Smoothing\n",
        "    Another smoothing technique is to interpolate between n-grams for missing data. This method is more effective than Laplace smoothing at combatting the data sparsity problem. Refer to chapters 4, 9, and 10 of the [Speech & Language Processing](https://web.stanford.edu/~jurafsky/slp3/) book for more information.\n",
        "\n",
        "- Extending to Trigrams\n",
        "    HMM taggers have achieved better than 96% accuracy on this dataset with the full Penn treebank tagset using an architecture described in [this](http://www.coli.uni-saarland.de/~thorsten/publications/Brants-ANLP00.pdf) paper. Altering your HMM to achieve the same performance would require implementing deleted interpolation (described in the paper), incorporating trigram probabilities in your frequency tables, and re-implementing the Viterbi algorithm to consider three consecutive states instead of two.\n",
        "\n",
        "### Obtain the Brown Corpus with a Larger Tagset\n",
        "Run the code below to download a copy of the brown corpus with the full NLTK tagset. You will need to research the available tagset information in the NLTK docs and determine the best way to extract the subset of NLTK tags you want to explore. If you write the following the format specified in Step 1, then you can reload the data using all of the code above for comparison.\n",
        "\n",
        "Refer to [Chapter 5](http://www.nltk.org/book/ch05.html) of the NLTK book for more information on the available tagsets."
      ]
    },
    {
      "cell_type": "code",
      "execution_count": null,
      "metadata": {
        "id": "5h1q-O7QRctk"
      },
      "outputs": [],
      "source": [
        "import nltk\n",
        "from nltk import pos_tag, word_tokenize\n",
        "from nltk.corpus import brown\n",
        "\n",
        "nltk.download('brown')\n",
        "training_corpus = nltk.corpus.brown\n",
        "training_corpus.tagged_sents()[0]"
      ]
    }
  ],
  "metadata": {
    "colab": {
      "provenance": []
    },
    "kernelspec": {
      "display_name": "Python 3.9.13 ('base')",
      "language": "python",
      "name": "python3"
    },
    "language_info": {
      "codemirror_mode": {
        "name": "ipython",
        "version": 3
      },
      "file_extension": ".py",
      "mimetype": "text/x-python",
      "name": "python",
      "nbconvert_exporter": "python",
      "pygments_lexer": "ipython3",
      "version": "3.9.13 (main, Aug 25 2022, 23:51:50) [MSC v.1916 64 bit (AMD64)]"
    },
    "vscode": {
      "interpreter": {
        "hash": "52f1a141aa8a7a23d41eee701d40af8218b46149495cf8dd4c4bd12bcb554499"
      }
    }
  },
  "nbformat": 4,
  "nbformat_minor": 0
}
